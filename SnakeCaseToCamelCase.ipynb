{
 "metadata": {
  "kernelspec": {
   "display_name": ".NET (C#)",
   "language": "C#",
   "name": ".net-csharp"
  },
  "language_info": {
   "name": "C#"
  }
 },
 "cells": [
  {
   "cell_type": "markdown",
   "source": [
    "# 把 snake_case 轉換成 CamelCase"
   ],
   "metadata": {}
  },
  {
   "cell_type": "code",
   "execution_count": null,
   "source": [
    "#!csharp\r\n",
    "\r\n",
    "#r nuget:JorgeSerrano.Json.JsonSnakeCaseNamingPolicy\r\n",
    "\r\n",
    "using System.Text.Json;\r\n",
    "using JorgeSerrano.Json;\r\n",
    "\r\n",
    "public class PersonModel\r\n",
    "{\r\n",
    "    public string FirstName{get;set;}\r\n",
    "\r\n",
    "    public string Birthday{get;set;}\r\n",
    "\r\n",
    "    public string MyJobCity{get;set;}\r\n",
    "}\r\n",
    "\r\n",
    "var options = new JsonSerializerOptions { PropertyNamingPolicy = new JsonSnakeCaseNamingPolicy() };\r\n",
    "var jsonString = \"{\\\"first_name\\\":\\\"Jorge\\\",\\\"birthday\\\":\\\"2020-01-03T20:00:59.6991482Z\\\",\\\"my_job_city\\\":\\\"Madrid\\\"}\";\r\n",
    "var person = JsonSerializer.Deserialize<PersonModel>(jsonString, options);\r\n",
    "\r\n",
    "display(person);\r\n"
   ],
   "outputs": [
    {
     "data": {
      "text/html": [
       "<div><div></div><div></div><div><strong>Installed Packages</strong><ul><li><span>JorgeSerrano.Json.JsonSnakeCaseNamingPolicy, 0.9.0</span></li></ul></div></div>"
      ]
     },
     "metadata": {},
     "output_type": "display_data"
    }
   ],
   "metadata": {
    "dotnet_interactive": {
     "language": "csharp"
    }
   }
  }
 ],
 "nbformat": 4,
 "nbformat_minor": 2
}